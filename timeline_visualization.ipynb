{
  "nbformat": 4,
  "nbformat_minor": 0,
  "metadata": {
    "colab": {
      "provenance": []
    },
    "kernelspec": {
      "name": "python3",
      "display_name": "Python 3"
    },
    "language_info": {
      "name": "python"
    }
  },
  "cells": [
    {
      "cell_type": "code",
      "source": [
        "import json"
      ],
      "metadata": {
        "id": "p48K_Glh8X0k"
      },
      "execution_count": null,
      "outputs": []
    },
    {
      "cell_type": "code",
      "source": [
        "with open('surg-001.json', 'r') as file:\n",
        "    data = json.load(file)"
      ],
      "metadata": {
        "id": "vhKQaPxo90Hm"
      },
      "execution_count": null,
      "outputs": []
    },
    {
      "cell_type": "code",
      "source": [
        "# import json\n",
        "\n",
        "# with open('surg-001.json', 'r') as file:\n",
        "#     data = json.load(file)\n",
        "\n",
        "# start_times = []\n",
        "# end_times = []\n",
        "# phases = []\n",
        "\n",
        "# for i in range(len(data)):\n",
        "#     for a in range(len(data[i][\"annotations\"])):\n",
        "#         annotations = data[i][\"annotations\"]\n",
        "#         start_time = annotations[a][\"result\"][0][\"value\"][\"start\"]\n",
        "#         end_time = annotations[a][\"result\"][0][\"value\"][\"end\"]\n",
        "#         phase = annotations[a][\"result\"][0][\"value\"][\"labels\"]\n",
        "#         phase = phase[0].split(\".\")[1]\n",
        "\n",
        "#         start_times.append(start_time)\n",
        "#         end_times.append(end_time)\n",
        "#         phases.append(phase)\n",
        "\n",
        "\n",
        "# phases = set(phases)\n",
        "# phases = list(phases)\n",
        "# print(\"Start Times:\", start_times)\n",
        "# print(\"End Times:\", end_times)\n",
        "# print(\"Phases:\", phases)\n",
        "\n",
        "\n",
        "\n",
        "import json\n",
        "import matplotlib.pyplot as plt\n",
        "import numpy as np\n",
        "import matplotlib.pyplot as plt\n",
        "import numpy as np\n",
        "import seaborn as sns\n",
        "\n",
        "with open('surg-001.json', 'r') as file:\n",
        "    data = json.load(file)\n",
        "\n",
        "start_times = []\n",
        "end_times = []\n",
        "phases = []\n",
        "\n",
        "offset = 0\n",
        "\n",
        "for i in range(len(data)):\n",
        "    for a in range(len(data[i][\"annotations\"])):\n",
        "        annotations = data[i][\"annotations\"]\n",
        "        start_time = annotations[a][\"result\"][0][\"value\"][\"start\"] + offset\n",
        "        end_time = annotations[a][\"result\"][0][\"value\"][\"end\"] + offset\n",
        "        phase = annotations[a][\"result\"][0][\"value\"][\"labels\"]\n",
        "        phase = phase[0].split(\".\")[1]\n",
        "\n",
        "    start_times.append(start_time)\n",
        "    end_times.append(end_time)\n",
        "    phases.append(phase)\n",
        "\n",
        "    offset += end_time - start_time\n",
        "    # print(f\"Video {i+1}: Start: {start_time} End: {end_time}\")\n",
        "    # offset = end_time - start_time\n",
        "    # print(f\"Offset: {offset}\")\n",
        "phases = list(set(phases))\n",
        "print(\"Start Times:\", start_times)\n",
        "print(\"End Times:\", end_times)\n",
        "print(\"Phases:\", phases)\n",
        "\n",
        "\n",
        "colors = sns.color_palette(\"Set2\", len(phases))\n",
        "\n",
        "plt.figure(figsize=(10, 6))\n",
        "\n",
        "bar_width = 0.3\n",
        "\n",
        "plt.barh(\"Method A\", end_times[0] - start_times[0], left=start_times[0], height=bar_width, color=colors[0], edgecolor='white', label=phases[0])\n",
        "\n",
        "for i in range(1, len(phases)):\n",
        "    plt.barh(\"Method A\", end_times[i] - start_times[i], left=np.sum(end_times[:i]), height=bar_width, color=colors[i], edgecolor='white', label=phases[i])\n",
        "\n",
        "plt.xlabel('Time (seconds)')\n",
        "\n",
        "\n",
        "legend_handles = [plt.Rectangle((0,0),1,1, color=colors[i], label=phases[i]) for i in range(len(colors))]\n",
        "plt.legend(handles=legend_handles, title='Colors')\n",
        "\n",
        "plt.show()"
      ],
      "metadata": {
        "colab": {
          "base_uri": "https://localhost:8080/",
          "height": 614
        },
        "id": "QtHzI1MyBykr",
        "outputId": "34171491-7c46-4d19-d104-2e3843f314c1"
      },
      "execution_count": null,
      "outputs": [
        {
          "output_type": "stream",
          "name": "stdout",
          "text": [
            "Start Times: [0, 12.248005, 16.236318070672343, 22.52025919069245, 61.70682062904861, 72.68028267280793, 79.42017682893018, 83.61596405767212, 108.42697357602074, 131.59314014799293, 159.0344955894714]\n",
            "End Times: [12.248005, 15.243877689938397, 23.183400735809958, 62.03611946466505, 72.68028267280793, 79.09742396518081, 83.93871692142149, 108.42697357602074, 130.2603927044611, 159.58083646216133, 165.32574815620652]\n",
            "Phases: ['Site', 'Scope', 'Suturing', 'Circular Muscle Dissection', 'Landmarking', 'Longitudinal Muscle Dissection']\n"
          ]
        },
        {
          "output_type": "display_data",
          "data": {
            "text/plain": [
              "<Figure size 1000x600 with 1 Axes>"
            ],
            "image/png": "[encoded data removed]"
          },
          "metadata": {}
        }
      ]
    },
    {
      "cell_type": "code",
      "source": [
        "len(start_times)"
      ],
      "metadata": {
        "colab": {
          "base_uri": "https://localhost:8080/"
        },
        "id": "-3_9z7RGFkko",
        "outputId": "0a0b8410-1454-49cc-f3e9-ba01a188c266"
      },
      "execution_count": null,
      "outputs": [
        {
          "output_type": "execute_result",
          "data": {
            "text/plain": [
              "11"
            ]
          },
          "metadata": {},
          "execution_count": 80
        }
      ]
    },
    {
      "cell_type": "code",
      "source": [
        "phases"
      ],
      "metadata": {
        "colab": {
          "base_uri": "https://localhost:8080/"
        },
        "id": "PdpAWBmXFn6v",
        "outputId": "21ba901a-1d9a-4942-ea3e-7d1e40592a4e"
      },
      "execution_count": null,
      "outputs": [
        {
          "output_type": "execute_result",
          "data": {
            "text/plain": [
              "['Setup',\n",
              " 'Setup',\n",
              " 'Dissection',\n",
              " 'Dissection',\n",
              " 'Dissection',\n",
              " 'Dissection',\n",
              " 'Dissection',\n",
              " 'Closure',\n",
              " 'Closure',\n",
              " 'Closure',\n",
              " 'Closure']"
            ]
          },
          "metadata": {},
          "execution_count": 93
        }
      ]
    },
    {
      "cell_type": "code",
      "source": [],
      "metadata": {
        "id": "y6Ih18rmFprc"
      },
      "execution_count": null,
      "outputs": []
    }
  ]
}
