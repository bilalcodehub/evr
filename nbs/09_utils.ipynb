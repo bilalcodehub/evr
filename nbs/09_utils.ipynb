{
 "cells": [
  {
   "cell_type": "code",
   "execution_count": 6,
   "id": "81949059-6fac-46a1-bced-c81d6edeabd7",
   "metadata": {},
   "outputs": [],
   "source": [
    "#| default_exp util"
   ]
  },
  {
   "cell_type": "code",
   "execution_count": 7,
   "id": "df5982dc-5f44-4705-aa92-1417fc6aafd9",
   "metadata": {},
   "outputs": [],
   "source": [
    "#| hide\n",
    "from nbdev.showdoc import *"
   ]
  },
  {
   "cell_type": "code",
   "execution_count": 8,
   "id": "2445aaa7-a93d-4929-9fbd-05ca9a393a19",
   "metadata": {},
   "outputs": [],
   "source": [
    "#| export\n",
    "import os\n",
    "from tqdm import tqdm"
   ]
  },
  {
   "cell_type": "code",
   "execution_count": 9,
   "id": "c91ae8d1-3e79-48fe-8474-855ea3ed840c",
   "metadata": {},
   "outputs": [],
   "source": [
    "#| export\n",
    "def simplify(filename):\n",
    "    \"\"\"\n",
    "    Remove the date between the first and second underscores in the filename.\n",
    "\n",
    "    Args:\n",
    "        filename (str): The original filename.\n",
    "\n",
    "    Returns:\n",
    "        str: The filename with the date removed.\n",
    "    \"\"\"\n",
    "    # Find the position of the first underscore\n",
    "    first_underscore = filename.find('_')\n",
    "    if first_underscore == -1:\n",
    "        # No underscores found; return the filename as is\n",
    "        return filename\n",
    "\n",
    "    # Find the position of the second underscore after the first\n",
    "    second_underscore = filename.find('_', first_underscore + 1)\n",
    "    if second_underscore == -1:\n",
    "        # Only one underscore found; return the filename as is\n",
    "        return filename\n",
    "\n",
    "    # Extract parts before the first underscore and after the second underscore\n",
    "    part1 = filename[:first_underscore]\n",
    "    part2 = filename[second_underscore + 1:]\n",
    "\n",
    "    # Combine the parts with an underscore\n",
    "    new_filename = f\"{part1}_{part2}\"\n",
    "    return new_filename"
   ]
  },
  {
   "cell_type": "code",
   "execution_count": 10,
   "id": "46775f70-1219-465c-93c5-98704074a1f7",
   "metadata": {},
   "outputs": [],
   "source": [
    "#| export\n",
    "def rename_files_in_folder(folder_path):\n",
    "    \"\"\"\n",
    "    Rename all files in the specified folder by removing the date between the first and second underscores.\n",
    "    Shows a progress bar during the operation.\n",
    "\n",
    "    Args:\n",
    "        folder_path (str): Path to the folder containing the files.\n",
    "\n",
    "    Returns:\n",
    "        None\n",
    "    \"\"\"\n",
    "    # Get a list of files in the folder\n",
    "    filenames = [f for f in os.listdir(folder_path) if os.path.isfile(os.path.join(folder_path, f))]\n",
    "\n",
    "    # Use tqdm to create a progress bar\n",
    "    for filename in tqdm(filenames, desc='Renaming files'):\n",
    "        new_filename = simplify(filename)\n",
    "        # Rename the file if the name has changed\n",
    "        if new_filename != filename:\n",
    "            original_path = os.path.join(folder_path, filename)\n",
    "            new_path = os.path.join(folder_path, new_filename)\n",
    "\n",
    "            # Check if the new filename already exists to avoid overwriting\n",
    "            if os.path.exists(new_path):\n",
    "                print(f\"Error: Cannot rename '{filename}' to '{new_filename}' because it already exists.\")\n",
    "                continue\n",
    "\n",
    "            os.rename(original_path, new_path)\n",
    "            # Optionally, you can print the renamed files\n",
    "            # print(f\"Renamed '{filename}' to '{new_filename}'\")"
   ]
  },
  {
   "cell_type": "code",
   "execution_count": 12,
   "id": "ae5d89e5-c1e1-44b1-bae7-438f7d5e7837",
   "metadata": {},
   "outputs": [
    {
     "name": "stderr",
     "output_type": "stream",
     "text": [
      "Renaming files: 100%|█████████████████████████████████████████████████████████████████████████████████████████████████████████████████████████████████████████████████████████████████████| 24764/24764 [00:00<00:00, 67504.71it/s]\n"
     ]
    }
   ],
   "source": [
    "folder_path = '../temset/frames'  # Replace with your folder path\n",
    "rename_files_in_folder(folder_path)"
   ]
  },
  {
   "cell_type": "code",
   "execution_count": null,
   "id": "84b447b1-794f-4742-95a1-7184f0fd16f3",
   "metadata": {},
   "outputs": [],
   "source": [
    "#| export\n",
    "# Example usage\n",
    "if __name__ == \"__main__\":\n",
    "    folder_path = 'temset/frames'  # Replace with your folder path\n",
    "    rename_files_in_folder(folder_path)"
   ]
  },
  {
   "cell_type": "code",
   "execution_count": 13,
   "id": "866408d3-4c7a-44d9-a57f-7d8ba3204d08",
   "metadata": {},
   "outputs": [],
   "source": [
    "#| hide\n",
    "import nbdev; nbdev.nbdev_export()"
   ]
  },
  {
   "cell_type": "code",
   "execution_count": null,
   "id": "838a849d-094b-4e5c-b5af-f4817661292b",
   "metadata": {},
   "outputs": [],
   "source": []
  },
  {
   "cell_type": "code",
   "execution_count": null,
   "id": "bbcc7442-47e0-454f-851c-46fc76163b93",
   "metadata": {},
   "outputs": [],
   "source": []
  }
 ],
 "metadata": {
  "kernelspec": {
   "display_name": "Python 3 (ipykernel)",
   "language": "python",
   "name": "python3"
  },
  "language_info": {
   "codemirror_mode": {
    "name": "ipython",
    "version": 3
   },
   "file_extension": ".py",
   "mimetype": "text/x-python",
   "name": "python",
   "nbconvert_exporter": "python",
   "pygments_lexer": "ipython3",
   "version": "3.9.18"
  }
 },
 "nbformat": 4,
 "nbformat_minor": 5
}
