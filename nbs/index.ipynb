{
 "cells": [
  {
   "cell_type": "code",
   "execution_count": null,
   "metadata": {},
   "outputs": [],
   "source": [
    "#| hide\n",
    "from evr.core import *"
   ]
  },
  {
   "cell_type": "markdown",
   "metadata": {},
   "source": [
    "# evr\n",
    "\n",
    "> TEMS dataset and the code repository for creating endoscopic video datasets for machine learning"
   ]
  },
  {
   "cell_type": "markdown",
   "metadata": {},
   "source": [
    "This file will become your README and also the index of your documentation."
   ]
  },
  {
   "cell_type": "markdown",
   "metadata": {},
   "source": [
    "## Developer Guide"
   ]
  },
  {
   "cell_type": "markdown",
   "metadata": {},
   "source": [
    "If you are new to using `nbdev` here are some useful pointers to get you started."
   ]
  },
  {
   "cell_type": "markdown",
   "metadata": {},
   "source": [
    "### Install evr in Development mode"
   ]
  },
  {
   "cell_type": "markdown",
   "metadata": {},
   "source": [
    "```sh\n",
    "# make sure evr package is installed in development mode\n",
    "$ pip install -e .\n",
    "\n",
    "# make changes under nbs/ directory\n",
    "# ...\n",
    "\n",
    "# compile to have changes apply to evr\n",
    "$ nbdev_prepare\n",
    "```"
   ]
  },
  {
   "cell_type": "markdown",
   "metadata": {},
   "source": [
    "## Usage"
   ]
  },
  {
   "cell_type": "markdown",
   "metadata": {},
   "source": [
    "### Installation"
   ]
  },
  {
   "cell_type": "markdown",
   "metadata": {},
   "source": [
    "Install latest from the GitHub [repository][repo]:\n",
    "\n",
    "```sh\n",
    "$ pip install git+https://github.com/bilalcodehub/evr.git\n",
    "```\n",
    "\n",
    "or from [conda][conda]\n",
    "\n",
    "```sh\n",
    "$ conda install -c bilalcodehub evr\n",
    "```\n",
    "\n",
    "or from [pypi][pypi]\n",
    "\n",
    "\n",
    "```sh\n",
    "$ pip install evr\n",
    "```\n",
    "\n",
    "\n",
    "[repo]: https://github.com/bilalcodehub/evr\n",
    "[docs]: https://bilalcodehub.github.io/evr/\n",
    "[pypi]: https://pypi.org/project/evr/\n",
    "[conda]: https://anaconda.org/bilalcodehub/evr"
   ]
  },
  {
   "cell_type": "markdown",
   "metadata": {},
   "source": [
    "### Documentation"
   ]
  },
  {
   "cell_type": "markdown",
   "metadata": {},
   "source": [
    "Documentation can be found hosted on this GitHub [repository][repo]'s [pages][docs]. Additionally you can find package manager specific guidelines on [conda][conda] and [pypi][pypi] respectively.\n",
    "\n",
    "[repo]: https://github.com/bilalcodehub/evr\n",
    "[docs]: https://bilalcodehub.github.io/evr/\n",
    "[pypi]: https://pypi.org/project/evr/\n",
    "[conda]: https://anaconda.org/bilalcodehub/evr"
   ]
  },
  {
   "cell_type": "markdown",
   "metadata": {},
   "source": [
    "## Processing Your Dataset\n",
    "\n",
    "Once the `evr` library is successfully installed, you can start processing your dataset by following these steps:\n",
    "\n",
    "1. **Launch Jupyter Lab**\n",
    "\n",
    "   Open your terminal or command prompt and start Jupyter Lab by running:"
   ]
  },
  {
   "cell_type": "code",
   "execution_count": null,
   "metadata": {},
   "outputs": [],
   "source": [
    "jupyter lab"
   ]
  },
  {
   "cell_type": "markdown",
   "metadata": {},
   "source": [
    "(Note: You can skip this step if you’re already working inside a Jupyter notebook.)"
   ]
  },
  {
   "cell_type": "markdown",
   "metadata": {},
   "source": [
    "2. **Open the Data Processing Notebook**\n",
    "\n",
    "   In Jupyter Lab, navigate to and open the `01_data_proc.ipynb` notebook. This notebook contains the code and instructions necessary to process your dataset.\n",
    "\n",
    "3. **Run the Cells Sequentially**\n",
    "\n",
    "   Execute each cell in the notebook one after the other:\n",
    "\n",
    "   - Click on the first cell and press `Shift + Enter` to run it.\n",
    "   - Continue this process for each subsequent cell.\n",
    "\n",
    "   This will:\n",
    "\n",
    "   - Set up the necessary configurations.\n",
    "   - Process your dataset to create a structured, machine learning-ready dataset.\n",
    "   - Optionally, you can adjust parameters to tailor the processing to your specific dataset.\n",
    "\n",
    "   **Note**: If you are using your own dataset, make sure to update the dataset paths and any relevant parameters within the notebook to match your data's structure.\n",
    "\n",
    "---\n",
    "\n",
    "## Example Usage\n",
    "\n",
    "Below is a simple example of how to use the `evr` library within the notebook:"
   ]
  },
  {
   "cell_type": "code",
   "execution_count": null,
   "metadata": {},
   "outputs": [],
   "source": [
    "# Import the necessary modules from the library\n",
    "from evr.data_processing import extract_labels, create_microclips\n",
    "\n",
    "# Set the path to your dataset\n",
    "dataroot_path = '/path/to/your/dataset'  # Replace with your actual dataset path\n",
    "\n",
    "# Extract labels\n",
    "extract_labels(dataroot_path)\n",
    "\n",
    "# Create microclips\n",
    "create_microclips(\n",
    "    dataroot_path=dataroot_path,\n",
    "    offset=120,     # Time in seconds before the frame timestamp to start the microclip\n",
    "    fps=1,          # Frames per second for the extracted microclip\n",
    "    n_workers=4     # Number of worker processes to use\n",
    ")"
   ]
  },
  {
   "cell_type": "markdown",
   "metadata": {},
   "source": [
    "## Additional Information\n",
    "\n",
    "- **Features of `evr`**:\n",
    "\n",
    "  - **Frame Extraction**: Intelligent extraction of key frames capturing significant scene changes.\n",
    "  - **Label Mapping**: Automated mapping of frames to their corresponding labels from annotation files.\n",
    "  - **Microclip Generation**: Creation of microclips (short video clips) based on frames, useful for various machine learning tasks.\n",
    "\n",
    "- **Documentation**:\n",
    "\n",
    "  For detailed documentation of all modules and functions, please refer to the [API Documentation](#) (replace `#` with the actual link).\n",
    "\n",
    "- **Support**:\n",
    "\n",
    "  If you encounter any issues or have questions, feel free to open an issue on our [GitHub repository](https://github.com/yourusername/evr).\n",
    "\n",
    "---\n",
    "\n",
    "## Contributing\n",
    "\n",
    "We welcome contributions! If you'd like to contribute to `evr`, please follow these steps:\n",
    "\n",
    "1. **Fork the Repository**: Go to our GitHub page and click on **Fork**.\n",
    "\n",
    "2. **Create a New Branch**: Clone the forked repository to your local machine and create a new branch for your feature or bug fix.\n",
    "\n",
    "   ```bash\n",
    "   git checkout -b feature/your-feature-name\n",
    "\n",
    "\n",
    "3. **Commit Your Changes**: Make your changes and commit them with clear and descriptive messages.\n",
    "\n",
    "\n",
    "   ```bash\n",
    "   git commit -m \"Add feature: your feature description\"\n",
    "\n",
    "\n",
    "4. **Push to GitHub**: Push your changes to your GitHub repository.\n",
    "\n",
    "   ```bash\n",
    "   git push origin feature/your-feature-name\n",
    "\n",
    "   \n",
    "5. **Submit a Pull Request**: Go to the original repository on GitHub and submit a pull request detailing your changes.\n",
    "\n"
   ]
  },
  {
   "cell_type": "markdown",
   "metadata": {},
   "source": [
    "## License\n"
   ]
  },
  {
   "cell_type": "markdown",
   "metadata": {},
   "source": [
    "'evr' is licensed under the MIT License (replace # with the actual link to the license)."
   ]
  },
  {
   "cell_type": "markdown",
   "metadata": {},
   "source": [
    "### **Markdown Cell**\n",
    "\n",
    "```markdown\n",
    "**Thank you for using `evr`!**\n",
    "\n",
    "Feel free to customize this content further to suit your project's needs. If you need assistance with anything else, please let me know!"
   ]
  },
  {
   "cell_type": "code",
   "execution_count": null,
   "metadata": {},
   "outputs": [],
   "source": []
  }
 ],
 "metadata": {
  "kernelspec": {
   "display_name": "Python 3 (ipykernel)",
   "language": "python",
   "name": "python3"
  },
  "language_info": {
   "codemirror_mode": {
    "name": "ipython",
    "version": 3
   },
   "file_extension": ".py",
   "mimetype": "text/x-python",
   "name": "python",
   "nbconvert_exporter": "python",
   "pygments_lexer": "ipython3",
   "version": "3.9.18"
  }
 },
 "nbformat": 4,
 "nbformat_minor": 4
}
