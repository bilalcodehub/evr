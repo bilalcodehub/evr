{
 "cells": [
  {
   "cell_type": "markdown",
   "metadata": {},
   "source": [
    "# split\n",
    "\n",
    "> Fill in a module description here"
   ]
  },
  {
   "cell_type": "code",
   "execution_count": 11,
   "metadata": {},
   "outputs": [],
   "source": [
    "#| default_exp split"
   ]
  },
  {
   "cell_type": "code",
   "execution_count": 12,
   "metadata": {},
   "outputs": [],
   "source": [
    "#| hide\n",
    "from nbdev.showdoc import *"
   ]
  },
  {
   "cell_type": "code",
   "execution_count": 1,
   "metadata": {},
   "outputs": [],
   "source": [
    "#| export\n",
    "import subprocess\n",
    "from fastai.vision.all import *\n",
    "from tqdm import tqdm\n",
    "import argparse\n",
    "import numpy as np"
   ]
  },
  {
   "cell_type": "markdown",
   "metadata": {},
   "source": [
    "### Data record\n",
    "> ```\n",
    "temset/\n",
    "├── videos/\n",
    "│   ├── surg-001/\n",
    "│   │   ├── video1.mp4\n",
    "│   │   └── video2.mp4\n",
    "│   ├── surg-002/\n",
    "│   │   ├── video1.mp4\n",
    "│   │   └── video2.mp4\n",
    "│   └── ...\n",
    "│── frames/\n",
    "│── microclips/\n",
    "└── labels.csv\n",
    "```"
   ]
  },
  {
   "cell_type": "code",
   "execution_count": null,
   "metadata": {},
   "outputs": [],
   "source": [
    "#| export\n",
    "def get_frame_timestamps(video_path, interval):\n",
    "    \"\"\"\n",
    "    Calculate the timestamps at which to extract frames based on the video duration and specified interval.\n",
    "    \n",
    "    Args:\n",
    "        video_path (Path): Path to the input video file.\n",
    "        interval (int): Interval in seconds to extract frames.\n",
    "        \n",
    "    Returns:\n",
    "        List[float]: List of timestamps in seconds.\n",
    "    \"\"\"\n",
    "    # Get video duration using ffprobe\n",
    "    ffprobe_command = [\n",
    "        'ffprobe',\n",
    "        '-v', 'error',\n",
    "        '-show_entries',\n",
    "        'format=duration',\n",
    "        '-of',\n",
    "        'default=noprint_wrappers=1:nokey=1',\n",
    "        str(video_path)\n",
    "    ]\n",
    "    result = subprocess.run(ffprobe_command, stdout=subprocess.PIPE, stderr=subprocess.PIPE, text=True)\n",
    "    duration_str = result.stdout.strip()\n",
    "    \n",
    "    if not duration_str:\n",
    "        print(f\"Could not determine duration of video {video_path}\")\n",
    "        return []\n",
    "    \n",
    "    duration = float(duration_str)\n",
    "    \n",
    "    # Calculate timestamps\n",
    "    timestamps = [round(i, 2) for i in np.arange(0, duration, interval)]\n",
    "    return timestamps"
   ]
  },
  {
   "cell_type": "code",
   "execution_count": null,
   "metadata": {},
   "outputs": [],
   "source": [
    "#| export\n",
    "def split_video(video_path, output_dir, surgery_identifier, interval=1):\n",
    "    \"\"\"\n",
    "    Extracts frames from a video at specified intervals using ffmpeg and saves them with timestamps in filenames.\n",
    "    \n",
    "    Args:\n",
    "        video_path (Path): Path to the input video file.\n",
    "        output_dir (Path): Directory to save the extracted frames.\n",
    "        surgery_identifier (str): Identifier for the surgery (e.g., 'surg-001') to include in the frame filenames.\n",
    "        interval (int): Interval in seconds to extract frames.\n",
    "    \n",
    "    Returns:\n",
    "        None\n",
    "    \"\"\"\n",
    "    video_name = video_path.stem\n",
    "    output_dir.mkdir(parents=True, exist_ok=True)\n",
    "    \n",
    "    timestamps = get_frame_timestamps(video_path, interval)\n",
    "    \n",
    "    if not timestamps:\n",
    "        return\n",
    "    \n",
    "    for timestamp in timestamps:\n",
    "        output_filename = f\"{surgery_identifier}_{video_name}_{timestamp:.2f}.jpg\"\n",
    "        output_file_path = output_dir / output_filename\n",
    "        \n",
    "        command = [\n",
    "            'ffmpeg',\n",
    "            '-ss', str(timestamp),\n",
    "            '-i', str(video_path),\n",
    "            '-frames:v', '1',\n",
    "            '-q:v', '2',\n",
    "            '-y',\n",
    "            str(output_file_path)\n",
    "        ]\n",
    "        \n",
    "        # Run the ffmpeg command\n",
    "        subprocess.run(command, check=True, stdout=subprocess.DEVNULL, stderr=subprocess.DEVNULL)"
   ]
  },
  {
   "cell_type": "code",
   "execution_count": null,
   "metadata": {},
   "outputs": [],
   "source": [
    "#| export\n",
    "def split_dataset(dataset_root_path='../temset', interval=1):\n",
    "    \"\"\"\n",
    "    Process all videos in the dataset directory and extract frames to a frames folder using a single progress bar.\n",
    "    \n",
    "    Args:\n",
    "        dataset_root_path (str): Path to the main dataset directory. Default is 'dataset'.\n",
    "        interval (int): Interval in seconds to extract frames from videos.\n",
    "    \n",
    "        Returns:\n",
    "            None\n",
    "        \"\"\"\n",
    "    dataset_root_path = Path(dataset_root_path)\n",
    "    videos_dir = dataset_root_path / 'videos'\n",
    "    frames_dir = dataset_root_path / 'frames'\n",
    "    \n",
    "    # Get all video files in the dataset\n",
    "    video_files = get_files(videos_dir, extensions='.mp4', recurse=True)\n",
    "    \n",
    "    with tqdm(total=len(video_files), desc=\"Extracting frames from all videos\", unit='video') as pbar:\n",
    "        for surgery_folder in videos_dir.ls():\n",
    "            if surgery_folder.is_dir():\n",
    "                print(f\"Processing surgery: {surgery_folder.name}\")\n",
    "                video_files_in_folder = get_files(surgery_folder, extensions='.mp4')\n",
    "    \n",
    "                for video_path in video_files_in_folder:\n",
    "                    split_video(video_path, frames_dir, surgery_folder.name, interval)\n",
    "                    pbar.update(1)"
   ]
  },
  {
   "cell_type": "code",
   "execution_count": null,
   "metadata": {},
   "outputs": [],
   "source": [
    "#| export\n",
    "def main():\n",
    "    \"\"\"\n",
    "    Main function to handle command-line arguments and execute the frame extraction process.\n",
    "    \"\"\"\n",
    "    parser = argparse.ArgumentParser(description=\"Extract frames from videos in the dataset directory.\")\n",
    "    parser.add_argument('--dataset_root_path', type=str, default='../temset', help='Path to the dataset directory containing videos.')\n",
    "    parser.add_argument('--interval', type=int, default=1, help='Interval in seconds for frame extraction.')\n",
    "    \n",
    "    args = parser.parse_args()\n",
    "    process_dataset(args.dataset_root_path, args.interval)\n",
    "\n",
    "if __name__ == \"__main__\":\n",
    "    main()"
   ]
  },
  {
   "cell_type": "code",
   "execution_count": null,
   "metadata": {},
   "outputs": [],
   "source": [
    "split_dataset()"
   ]
  },
  {
   "cell_type": "code",
   "execution_count": null,
   "metadata": {},
   "outputs": [],
   "source": [
    "#| export\n",
    "def main():\n",
    "    \"\"\"\n",
    "    Main function to handle command-line arguments and execute the frame extraction process.\n",
    "    \"\"\"\n",
    "    parser = argparse.ArgumentParser(description=\"Extract frames from videos in the dataset directory.\")\n",
    "    parser.add_argument('--dataset_root_path', type=str, default='../temset', help='Path to the dataset directory containing videos.')\n",
    "    parser.add_argument('--interval', type=int, default=1, help='Interval in seconds for frame extraction. Use -1 to extract all frames.')\n",
    "\n",
    "    args = parser.parse_args()\n",
    "    split_dataset(args.dataset_root_path, args.interval)\n",
    "\n",
    "if __name__ == \"__main__\":\n",
    "    main()"
   ]
  },
  {
   "cell_type": "code",
   "execution_count": 8,
   "metadata": {},
   "outputs": [],
   "source": [
    "#| hide\n",
    "import nbdev; nbdev.nbdev_export()"
   ]
  },
  {
   "cell_type": "code",
   "execution_count": null,
   "metadata": {},
   "outputs": [],
   "source": []
  }
 ],
 "metadata": {
  "kernelspec": {
   "display_name": "Python 3 (ipykernel)",
   "language": "python",
   "name": "python3"
  },
  "language_info": {
   "codemirror_mode": {
    "name": "ipython",
    "version": 3
   },
   "file_extension": ".py",
   "mimetype": "text/x-python",
   "name": "python",
   "nbconvert_exporter": "python",
   "pygments_lexer": "ipython3",
   "version": "3.9.18"
  }
 },
 "nbformat": 4,
 "nbformat_minor": 4
}
