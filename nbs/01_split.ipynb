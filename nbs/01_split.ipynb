{
 "cells": [
  {
   "cell_type": "markdown",
   "metadata": {},
   "source": [
    "# split\n",
    "\n",
    "> Fill in a module description here"
   ]
  },
  {
   "cell_type": "code",
   "execution_count": null,
   "metadata": {
    "tags": []
   },
   "outputs": [],
   "source": [
    "#| default_exp split"
   ]
  },
  {
   "cell_type": "code",
   "execution_count": 2,
   "metadata": {},
   "outputs": [],
   "source": [
    "#export\n",
    "import subprocess\n",
    "from fastai.vision.all import *\n",
    "from tqdm import tqdm\n",
    "import cv2\n",
    "import argparse"
   ]
  },
  {
   "cell_type": "code",
   "execution_count": null,
   "metadata": {},
   "outputs": [],
   "source": [
    "#export\n",
    "def extract_frames_from_video(video_path, output_dir, unique_capture_name, interval=1):\n",
    "    \"\"\"\n",
    "    Extracts frames from a given video using ffmpeg at a specified interval and saves them to the output directory.\n",
    "    If interval is set to -1, all frames from the video are extracted.\n",
    "\n",
    "    Args:\n",
    "        video_path (Path): Path to the input video file.\n",
    "        output_dir (Path): Directory to save the extracted frames.\n",
    "        unique_capture_name (str): Name of the unique capture folder to include in the frame filenames.\n",
    "        interval (int): Interval in seconds to extract frames. If -1, extract all frames.\n",
    "\n",
    "    Returns:\n",
    "        None\n",
    "    \"\"\"\n",
    "    video_name = video_path.stem\n",
    "    output_dir.mkdir(parents=True, exist_ok=True)\n",
    "\n",
    "    # Define the ffmpeg command to extract frames\n",
    "    frame_output_pattern = f\"{output_dir}/{unique_capture_name}_{video_name}_%04d.jpg\"\n",
    "    command = [\n",
    "        'ffmpeg',\n",
    "        '-i', str(video_path),\n",
    "        '-vf', f'fps=1/{interval}' if interval != -1 else '',\n",
    "        '-q:v', '2',\n",
    "        frame_output_pattern\n",
    "    ]\n",
    "\n",
    "    # Run the ffmpeg command using subprocess with suppressed output\n",
    "    subprocess.run([arg for arg in command if arg], check=True, stdout=subprocess.DEVNULL, stderr=subprocess.STDOUT)"
   ]
  },
  {
   "cell_type": "code",
   "execution_count": null,
   "metadata": {},
   "outputs": [],
   "source": [
    "#export\n",
    "def process_dataset_videos(dataset_root_path='dataset', interval=1):\n",
    "    \"\"\"\n",
    "    Process all videos in the dataset directory and extract frames to a frames folder using a single progress bar.\n",
    "\n",
    "    Args:\n",
    "        dataset_root_path (str): Path to the main dataset directory. Default is 'dataset'.\n",
    "        interval (int): Interval in seconds to extract frames from videos. If -1, extract all frames.\n",
    "\n",
    "    Returns:\n",
    "        None\n",
    "    \"\"\"\n",
    "    dataset_root_path = Path(dataset_root_path)\n",
    "    videos_dir = dataset_root_path / 'videos'\n",
    "    frames_dir = dataset_root_path / 'frames'\n",
    "\n",
    "    video_files = get_files(videos_dir, extensions='.mp4')\n",
    "\n",
    "    with tqdm(total=len(video_files), desc=\"Extracting frames from all videos\", unit='video') as pbar:\n",
    "        for capture_folder in videos_dir.ls():\n",
    "            if capture_folder.is_dir(): \n",
    "                print(f\"Processing folder: {capture_folder.name}\")\n",
    "                video_files_in_folder = get_files(capture_folder, extensions='.mp4')\n",
    "\n",
    "                for video_path in video_files_in_folder:\n",
    "                    extract_frames_from_video(video_path, frames_dir, capture_folder.name, interval)\n",
    "                    pbar.update(1)"
   ]
  },
  {
   "cell_type": "code",
   "execution_count": null,
   "metadata": {},
   "outputs": [],
   "source": [
    "#export\n",
    "def main():\n",
    "    \"\"\"\n",
    "    Main function to handle command-line arguments and execute the frame extraction process.\n",
    "    \"\"\"\n",
    "    parser = argparse.ArgumentParser(description=\"Extract frames from videos in the dataset directory.\")\n",
    "    parser.add_argument('--dataset_root_path', type=str, default='../temset', help='Path to the dataset directory containing videos.')\n",
    "    parser.add_argument('--interval', type=int, default=1, help='Interval in seconds for frame extraction. Use -1 to extract all frames.')\n",
    "\n",
    "    args = parser.parse_args()\n",
    "    process_dataset_videos(args.dataset_root_path, args.interval)\n",
    "\n",
    "if __name__ == \"__main__\":\n",
    "    main()"
   ]
  },
  {
   "cell_type": "code",
   "execution_count": null,
   "metadata": {},
   "outputs": [],
   "source": []
  }
 ],
 "metadata": {
  "kernelspec": {
   "display_name": "Python 3 (ipykernel)",
   "language": "python",
   "name": "python3"
  },
  "language_info": {
   "codemirror_mode": {
    "name": "ipython",
    "version": 3
   },
   "file_extension": ".py",
   "mimetype": "text/x-python",
   "name": "python",
   "nbconvert_exporter": "python",
   "pygments_lexer": "ipython3",
   "version": "3.9.20"
  }
 },
 "nbformat": 4,
 "nbformat_minor": 4
}
