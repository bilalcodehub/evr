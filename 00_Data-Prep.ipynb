{
 "cells": [
  {
   "cell_type": "code",
   "execution_count": null,
   "id": "1b249cc2-9727-44d1-aa81-27b31950aaf6",
   "metadata": {},
   "outputs": [],
   "source": [
    "from fastai.data.all import *\n",
    "import subprocess, os"
   ]
  },
  {
   "cell_type": "code",
   "execution_count": null,
   "id": "d2fb6ab6-5833-48a8-8416-0cf53ea84fe7",
   "metadata": {},
   "outputs": [],
   "source": [
    "def reduce_bitrate(input_folder, new_bitrate='1000k'):\n",
    "    # Create the \"mini\" folder if it doesn't exist\n",
    "    output_folder = input_folder.replace(\"orig\", \"mini\")\n",
    "    Path(output_folder).mkdir(parents=True, exist_ok=True)\n",
    "\n",
    "    # Get a list of video files in the input folder and sort them by name\n",
    "    video_files = sorted(get_files(input_folder, extensions=['.mpg', '.mp4', '.mov']))\n",
    "    print(video_files)\n",
    "    for video_file in video_files:\n",
    "        input_video = str(video_file)\n",
    "        output_video = os.path.join(output_folder, video_file.stem + '.mp4')  # Ensure output is .mp4\n",
    "\n",
    "        # Check if the output file already exists and delete it\n",
    "        if os.path.exists(output_video):\n",
    "            os.remove(output_video)\n",
    "\n",
    "        print(f\"Processing {input_video} -> {output_video}\")\n",
    "\n",
    "        # Construct the ffmpeg command as a list of arguments\n",
    "        ffmpeg_cmd = [\n",
    "            'ffmpeg', '-y',  # Overwrite output files without asking\n",
    "            '-i', input_video,  # Input video file\n",
    "            '-f', 'lavfi', '-i', 'anullsrc=channel_layout=stereo:sample_rate=44100',  # Add silent audio\n",
    "            '-c:v', 'libx264', '-b:v', new_bitrate,  # Video codec and bitrate\n",
    "            '-c:a', 'aac',  # Audio codec\n",
    "            '-shortest',  # Finish encoding when the shortest input stream ends\n",
    "            output_video  # Output file\n",
    "        ]\n",
    "\n",
    "        # Run the ffmpeg command\n",
    "        result = subprocess.run(ffmpeg_cmd, stdout=subprocess.PIPE, stderr=subprocess.PIPE, text=True)\n",
    "\n",
    "        # Check if ffmpeg encountered any errors\n",
    "        if result.returncode != 0:\n",
    "            print(f\"Error processing {input_video}: {result.stderr}\")\n",
    "        else:\n",
    "            print(f\"Successfully processed {input_video}\")"
   ]
  },
  {
   "cell_type": "code",
   "execution_count": null,
   "id": "05339808-5689-4bdb-ba8f-ea4613743f4e",
   "metadata": {},
   "outputs": [
    {
     "name": "stdout",
     "output_type": "stream",
     "text": [
      "[Path('dataset/TEMS-001/orig/152123_VID003.mp4'), Path('dataset/TEMS-001/orig/152123_VID007.mp4')]\n",
      "Processing dataset/TEMS-001/orig/152123_VID003.mp4 -> dataset/TEMS-001/mini/152123_VID003.mp4\n",
      "Successfully processed dataset/TEMS-001/orig/152123_VID003.mp4\n",
      "Processing dataset/TEMS-001/orig/152123_VID007.mp4 -> dataset/TEMS-001/mini/152123_VID007.mp4\n",
      "Successfully processed dataset/TEMS-001/orig/152123_VID007.mp4\n"
     ]
    }
   ],
   "source": [
    "# Example usage:\n",
    "input_folder = 'dataset/TEMS-001/orig/'\n",
    "new_bitrate = '1000k'\n",
    "\n",
    "reduce_bitrate(input_folder, new_bitrate)"
   ]
  },
  {
   "cell_type": "code",
   "execution_count": 6,
   "id": "2d10fa37-36bc-496d-90d1-634424356275",
   "metadata": {},
   "outputs": [
    {
     "name": "stdout",
     "output_type": "stream",
     "text": [
      "[Path('dataset/TEMS-006/orig/115418_VID001.mp4'), Path('dataset/TEMS-006/orig/115418_VID003.mp4')]\n",
      "Processing dataset/TEMS-006/orig/115418_VID001.mp4 -> dataset/TEMS-006/mini/115418_VID001.mp4\n",
      "Successfully processed dataset/TEMS-006/orig/115418_VID001.mp4\n",
      "Processing dataset/TEMS-006/orig/115418_VID003.mp4 -> dataset/TEMS-006/mini/115418_VID003.mp4\n",
      "Successfully processed dataset/TEMS-006/orig/115418_VID003.mp4\n"
     ]
    }
   ],
   "source": [
    "# Example usage:\n",
    "input_folder = 'dataset/TEMS-006/orig/'\n",
    "new_bitrate = '1000k'\n",
    "\n",
    "reduce_bitrate(input_folder, new_bitrate)"
   ]
  },
  {
   "cell_type": "code",
   "execution_count": 7,
   "id": "a5f91d11-d0f7-4ec3-8400-a5a4ff65def1",
   "metadata": {},
   "outputs": [
    {
     "name": "stdout",
     "output_type": "stream",
     "text": [
      "[Path('dataset/TEMS-012/orig/100813_VID002.mp4'), Path('dataset/TEMS-012/orig/100813_VID003.mp4'), Path('dataset/TEMS-012/orig/100813_VID005.mp4')]\n",
      "Processing dataset/TEMS-012/orig/100813_VID002.mp4 -> dataset/TEMS-012/mini/100813_VID002.mp4\n",
      "Successfully processed dataset/TEMS-012/orig/100813_VID002.mp4\n",
      "Processing dataset/TEMS-012/orig/100813_VID003.mp4 -> dataset/TEMS-012/mini/100813_VID003.mp4\n",
      "Successfully processed dataset/TEMS-012/orig/100813_VID003.mp4\n",
      "Processing dataset/TEMS-012/orig/100813_VID005.mp4 -> dataset/TEMS-012/mini/100813_VID005.mp4\n",
      "Successfully processed dataset/TEMS-012/orig/100813_VID005.mp4\n"
     ]
    }
   ],
   "source": [
    "# Example usage:\n",
    "input_folder = 'dataset/TEMS-012/orig/'\n",
    "new_bitrate = '1000k'\n",
    "\n",
    "reduce_bitrate(input_folder, new_bitrate)"
   ]
  },
  {
   "cell_type": "code",
   "execution_count": 8,
   "id": "45b6a76a-bb11-487c-85e9-8f522fd621c2",
   "metadata": {},
   "outputs": [
    {
     "name": "stdout",
     "output_type": "stream",
     "text": [
      "[Path('dataset/TEMS-013/orig/142147_VID001.mp4'), Path('dataset/TEMS-013/orig/142147_VID004.mp4')]\n",
      "Processing dataset/TEMS-013/orig/142147_VID001.mp4 -> dataset/TEMS-013/mini/142147_VID001.mp4\n",
      "Successfully processed dataset/TEMS-013/orig/142147_VID001.mp4\n",
      "Processing dataset/TEMS-013/orig/142147_VID004.mp4 -> dataset/TEMS-013/mini/142147_VID004.mp4\n",
      "Successfully processed dataset/TEMS-013/orig/142147_VID004.mp4\n"
     ]
    }
   ],
   "source": [
    "# Example usage:\n",
    "input_folder = 'dataset/TEMS-013/orig/'\n",
    "new_bitrate = '1000k'\n",
    "\n",
    "reduce_bitrate(input_folder, new_bitrate)"
   ]
  },
  {
   "cell_type": "code",
   "execution_count": 9,
   "id": "98041d56-0a2d-4648-8917-d2667fbfa974",
   "metadata": {},
   "outputs": [
    {
     "name": "stdout",
     "output_type": "stream",
     "text": [
      "[Path('dataset/TEMS-014/orig/110128_VID001.mp4'), Path('dataset/TEMS-014/orig/110128_VID003.mp4'), Path('dataset/TEMS-014/orig/110128_VID004.mp4')]\n",
      "Processing dataset/TEMS-014/orig/110128_VID001.mp4 -> dataset/TEMS-014/mini/110128_VID001.mp4\n",
      "Successfully processed dataset/TEMS-014/orig/110128_VID001.mp4\n",
      "Processing dataset/TEMS-014/orig/110128_VID003.mp4 -> dataset/TEMS-014/mini/110128_VID003.mp4\n",
      "Successfully processed dataset/TEMS-014/orig/110128_VID003.mp4\n",
      "Processing dataset/TEMS-014/orig/110128_VID004.mp4 -> dataset/TEMS-014/mini/110128_VID004.mp4\n",
      "Successfully processed dataset/TEMS-014/orig/110128_VID004.mp4\n"
     ]
    }
   ],
   "source": [
    "# Example usage:\n",
    "input_folder = 'dataset/TEMS-014/orig/'\n",
    "new_bitrate = '1000k'\n",
    "\n",
    "reduce_bitrate(input_folder, new_bitrate)"
   ]
  },
  {
   "cell_type": "code",
   "execution_count": 10,
   "id": "b2c840d1-64c6-4c1e-af5b-cf75c78ae866",
   "metadata": {},
   "outputs": [
    {
     "name": "stdout",
     "output_type": "stream",
     "text": [
      "[Path('dataset/TEMS-017/orig/162147_VID002.mp4'), Path('dataset/TEMS-017/orig/162147_VID003.mp4')]\n",
      "Processing dataset/TEMS-017/orig/162147_VID002.mp4 -> dataset/TEMS-017/mini/162147_VID002.mp4\n",
      "Successfully processed dataset/TEMS-017/orig/162147_VID002.mp4\n",
      "Processing dataset/TEMS-017/orig/162147_VID003.mp4 -> dataset/TEMS-017/mini/162147_VID003.mp4\n",
      "Successfully processed dataset/TEMS-017/orig/162147_VID003.mp4\n"
     ]
    }
   ],
   "source": [
    "# Example usage:\n",
    "input_folder = 'dataset/TEMS-017/orig/'\n",
    "new_bitrate = '1000k'\n",
    "\n",
    "reduce_bitrate(input_folder, new_bitrate)"
   ]
  },
  {
   "cell_type": "code",
   "execution_count": null,
   "id": "7295d048-50bc-4f0c-bd24-9eb02f71a7e9",
   "metadata": {},
   "outputs": [],
   "source": []
  }
 ],
 "metadata": {
  "kernelspec": {
   "display_name": "Python 3 (ipykernel)",
   "language": "python",
   "name": "python3"
  },
  "language_info": {
   "codemirror_mode": {
    "name": "ipython",
    "version": 3
   },
   "file_extension": ".py",
   "mimetype": "text/x-python",
   "name": "python",
   "nbconvert_exporter": "python",
   "pygments_lexer": "ipython3",
   "version": "3.9.18"
  }
 },
 "nbformat": 4,
 "nbformat_minor": 5
}
