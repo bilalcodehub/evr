{
 "cells": [
  {
   "cell_type": "code",
   "execution_count": 1,
   "id": "0615b4ec-2ebd-49e6-9be5-2e8ed2268597",
   "metadata": {},
   "outputs": [],
   "source": [
    "from evr.split import *"
   ]
  },
  {
   "cell_type": "code",
   "execution_count": 2,
   "id": "ce55405e-4bc8-46b2-a197-712a6b781976",
   "metadata": {},
   "outputs": [
    {
     "name": "stderr",
     "output_type": "stream",
     "text": [
      "Extracting frames from all videos:   0%|                                                                                                                                                                 | 0/40 [00:00<?, ?video/s]"
     ]
    },
    {
     "name": "stdout",
     "output_type": "stream",
     "text": [
      "Processing surgery: TEMS-013\n"
     ]
    },
    {
     "name": "stderr",
     "output_type": "stream",
     "text": [
      "Extracting frames from all videos:  12%|███████████████████▏                                                                                                                                     | 5/40 [06:02<46:10, 79.16s/video]"
     ]
    },
    {
     "name": "stdout",
     "output_type": "stream",
     "text": [
      "Processing surgery: TEMS-017\n"
     ]
    },
    {
     "name": "stderr",
     "output_type": "stream",
     "text": [
      "Extracting frames from all videos:  30%|█████████████████████████████████████████████▌                                                                                                          | 12/40 [15:28<40:28, 86.73s/video]"
     ]
    },
    {
     "name": "stdout",
     "output_type": "stream",
     "text": [
      "Processing surgery: TEMS-015\n"
     ]
    },
    {
     "name": "stderr",
     "output_type": "stream",
     "text": [
      "Extracting frames from all videos:  40%|████████████████████████████████████████████████████████████▊                                                                                           | 16/40 [20:43<33:17, 83.22s/video]"
     ]
    },
    {
     "name": "stdout",
     "output_type": "stream",
     "text": [
      "Processing surgery: TEMS-006\n"
     ]
    },
    {
     "name": "stderr",
     "output_type": "stream",
     "text": [
      "Extracting frames from all videos:  50%|████████████████████████████████████████████████████████████████████████████                                                                            | 20/40 [26:26<28:21, 85.06s/video]"
     ]
    },
    {
     "name": "stdout",
     "output_type": "stream",
     "text": [
      "Processing surgery: TEMS-001\n"
     ]
    },
    {
     "name": "stderr",
     "output_type": "stream",
     "text": [
      "Extracting frames from all videos:  75%|██████████████████████████████████████████████████████████████████████████████████████████████████████████████████                                      | 30/40 [39:29<13:29, 80.94s/video]"
     ]
    },
    {
     "name": "stdout",
     "output_type": "stream",
     "text": [
      "Processing surgery: TEMS-012\n"
     ]
    },
    {
     "name": "stderr",
     "output_type": "stream",
     "text": [
      "Extracting frames from all videos:  88%|█████████████████████████████████████████████████████████████████████████████████████████████████████████████████████████████████████                   | 35/40 [45:49<06:04, 72.89s/video]"
     ]
    },
    {
     "name": "stdout",
     "output_type": "stream",
     "text": [
      "Processing surgery: TEMS-014\n"
     ]
    },
    {
     "name": "stderr",
     "output_type": "stream",
     "text": [
      "Extracting frames from all videos: 100%|████████████████████████████████████████████████████████████████████████████████████████████████████████████████████████████████████████████████████████| 40/40 [52:36<00:00, 78.92s/video]\n"
     ]
    }
   ],
   "source": [
    "split_dataset('temset')"
   ]
  },
  {
   "cell_type": "code",
   "execution_count": null,
   "id": "325e0039-4265-4ff3-9f18-9e5889a36032",
   "metadata": {},
   "outputs": [],
   "source": []
  },
  {
   "cell_type": "code",
   "execution_count": null,
   "id": "b74e97eb-30fe-4c19-8ea3-80cfafd22a19",
   "metadata": {},
   "outputs": [],
   "source": []
  }
 ],
 "metadata": {
  "kernelspec": {
   "display_name": "Python 3 (ipykernel)",
   "language": "python",
   "name": "python3"
  },
  "language_info": {
   "codemirror_mode": {
    "name": "ipython",
    "version": 3
   },
   "file_extension": ".py",
   "mimetype": "text/x-python",
   "name": "python",
   "nbconvert_exporter": "python",
   "pygments_lexer": "ipython3",
   "version": "3.9.18"
  }
 },
 "nbformat": 4,
 "nbformat_minor": 5
}
