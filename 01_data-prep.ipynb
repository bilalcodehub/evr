{
 "cells": [
  {
   "cell_type": "code",
   "execution_count": 1,
   "id": "0615b4ec-2ebd-49e6-9be5-2e8ed2268597",
   "metadata": {},
   "outputs": [],
   "source": [
    "from evr.split import *\n",
    "from evr.map import *"
   ]
  },
  {
   "cell_type": "code",
   "execution_count": 2,
   "id": "ce55405e-4bc8-46b2-a197-712a6b781976",
   "metadata": {},
   "outputs": [
    {
     "name": "stderr",
     "output_type": "stream",
     "text": [
      "Extracting frames from all videos:   0%|                                                                                                                                                                 | 0/40 [00:00<?, ?video/s]"
     ]
    },
    {
     "name": "stdout",
     "output_type": "stream",
     "text": [
      "Processing surgery: TEMS-013\n"
     ]
    },
    {
     "name": "stderr",
     "output_type": "stream",
     "text": [
      "Extracting frames from all videos:  12%|███████████████████▏                                                                                                                                     | 5/40 [06:02<46:10, 79.16s/video]"
     ]
    },
    {
     "name": "stdout",
     "output_type": "stream",
     "text": [
      "Processing surgery: TEMS-017\n"
     ]
    },
    {
     "name": "stderr",
     "output_type": "stream",
     "text": [
      "Extracting frames from all videos:  30%|█████████████████████████████████████████████▌                                                                                                          | 12/40 [15:28<40:28, 86.73s/video]"
     ]
    },
    {
     "name": "stdout",
     "output_type": "stream",
     "text": [
      "Processing surgery: TEMS-015\n"
     ]
    },
    {
     "name": "stderr",
     "output_type": "stream",
     "text": [
      "Extracting frames from all videos:  40%|████████████████████████████████████████████████████████████▊                                                                                           | 16/40 [20:43<33:17, 83.22s/video]"
     ]
    },
    {
     "name": "stdout",
     "output_type": "stream",
     "text": [
      "Processing surgery: TEMS-006\n"
     ]
    },
    {
     "name": "stderr",
     "output_type": "stream",
     "text": [
      "Extracting frames from all videos:  50%|████████████████████████████████████████████████████████████████████████████                                                                            | 20/40 [26:26<28:21, 85.06s/video]"
     ]
    },
    {
     "name": "stdout",
     "output_type": "stream",
     "text": [
      "Processing surgery: TEMS-001\n"
     ]
    },
    {
     "name": "stderr",
     "output_type": "stream",
     "text": [
      "Extracting frames from all videos:  75%|██████████████████████████████████████████████████████████████████████████████████████████████████████████████████                                      | 30/40 [39:29<13:29, 80.94s/video]"
     ]
    },
    {
     "name": "stdout",
     "output_type": "stream",
     "text": [
      "Processing surgery: TEMS-012\n"
     ]
    },
    {
     "name": "stderr",
     "output_type": "stream",
     "text": [
      "Extracting frames from all videos:  88%|█████████████████████████████████████████████████████████████████████████████████████████████████████████████████████████████████████                   | 35/40 [45:49<06:04, 72.89s/video]"
     ]
    },
    {
     "name": "stdout",
     "output_type": "stream",
     "text": [
      "Processing surgery: TEMS-014\n"
     ]
    },
    {
     "name": "stderr",
     "output_type": "stream",
     "text": [
      "Extracting frames from all videos: 100%|████████████████████████████████████████████████████████████████████████████████████████████████████████████████████████████████████████████████████████| 40/40 [52:36<00:00, 78.92s/video]\n"
     ]
    }
   ],
   "source": [
    "# split_dataset('temset')"
   ]
  },
  {
   "cell_type": "code",
   "execution_count": 5,
   "id": "325e0039-4265-4ff3-9f18-9e5889a36032",
   "metadata": {},
   "outputs": [],
   "source": [
    "extract_labels('temset')"
   ]
  },
  {
   "cell_type": "code",
   "execution_count": 2,
   "id": "b74e97eb-30fe-4c19-8ea3-80cfafd22a19",
   "metadata": {},
   "outputs": [
    {
     "name": "stdout",
     "output_type": "stream",
     "text": [
      "Total frames: 24704\n",
      "Transition frames: 818\n",
      "Transition percentage: 3.31%\n",
      "Training frames: 19729 (79.86% of total)\n",
      "Validation frames: 4975 (20.14% of total)\n",
      "Training to validation ratio: 3.97\n",
      "\n",
      "Label distribution and proportions:\n",
      "                                                           Label  Total_Count  Total_Percent  Train_Count  Train_Percent  Valid_Count  Valid_Percent\n",
      "                                     Closure.Suturing.Aspiration          467           1.89          393           1.99         74.0           1.49\n",
      "                                       Closure.Suturing.Bleeding           10           0.04           10           0.05          0.0           0.00\n",
      "                                Closure.Suturing.Clipping Suture          226           0.91          212           1.07         14.0           0.28\n",
      "                                    Closure.Suturing.Haemostatis           47           0.19           47           0.24          0.0           0.00\n",
      "                         Closure.Suturing.Instrument Positioning         2058           8.33         1883           9.54        175.0           3.52\n",
      "                                      Closure.Suturing.No Action         1018           4.12          874           4.43        144.0           2.89\n",
      "                                    Closure.Suturing.Out of Body          317           1.28          317           1.61          0.0           0.00\n",
      "                              Closure.Suturing.Scope Positioning          680           2.75          578           2.93        102.0           2.05\n",
      "                                          Closure.Suturing.Smoke            2           0.01            2           0.01          0.0           0.00\n",
      "                                      Closure.Suturing.Stitching         2082           8.43         1955           9.91        127.0           2.55\n",
      "                                        Closure.Suturing.Washout          163           0.66          134           0.68         29.0           0.58\n",
      "                Dissection.Circular Muscle Dissection.Aspiration          205           0.83          201           1.02          4.0           0.08\n",
      "                  Dissection.Circular Muscle Dissection.Bleeding           34           0.14           34           0.17          0.0           0.00\n",
      "                Dissection.Circular Muscle Dissection.Dissection         1128           4.57          873           4.42        255.0           5.13\n",
      "               Dissection.Circular Muscle Dissection.Haemostasis           26           0.11           26           0.13          0.0           0.00\n",
      "    Dissection.Circular Muscle Dissection.Instrument Positioning          470           1.90          418           2.12         52.0           1.05\n",
      "                 Dissection.Circular Muscle Dissection.No Action          103           0.42           60           0.30         43.0           0.86\n",
      "               Dissection.Circular Muscle Dissection.Out of Body           27           0.11           10           0.05         17.0           0.34\n",
      "                Dissection.Circular Muscle Dissection.Retraction          298           1.21          246           1.25         52.0           1.05\n",
      "         Dissection.Circular Muscle Dissection.Scope Positioning          284           1.15          231           1.17         53.0           1.07\n",
      "                     Dissection.Circular Muscle Dissection.Smoke           21           0.09           21           0.11          0.0           0.00\n",
      "                   Dissection.Circular Muscle Dissection.Washout           60           0.24           60           0.30          0.0           0.00\n",
      "                               Dissection.Landmarking.Aspiration          163           0.66          163           0.83          0.0           0.00\n",
      "                                 Dissection.Landmarking.Bleeding            6           0.02            6           0.03          0.0           0.00\n",
      "                   Dissection.Landmarking.Instrument Positioning          253           1.02          198           1.00         55.0           1.11\n",
      "                                  Dissection.Landmarking.Marking          444           1.80          303           1.54        141.0           2.83\n",
      "                                Dissection.Landmarking.No Action          306           1.24          269           1.36         37.0           0.74\n",
      "                              Dissection.Landmarking.Out of Body          103           0.42          103           0.52          0.0           0.00\n",
      "                               Dissection.Landmarking.Retraction           62           0.25           62           0.31          0.0           0.00\n",
      "                        Dissection.Landmarking.Scope Positioning          154           0.62          120           0.61         34.0           0.68\n",
      "                                    Dissection.Landmarking.Smoke           19           0.08           19           0.10          0.0           0.00\n",
      "                                  Dissection.Landmarking.Washout           78           0.32           78           0.40          0.0           0.00\n",
      "            Dissection.Longitudinal Muscle Dissection.Aspiration          290           1.17          290           1.47          0.0           0.00\n",
      "              Dissection.Longitudinal Muscle Dissection.Bleeding           37           0.15           37           0.19          0.0           0.00\n",
      "            Dissection.Longitudinal Muscle Dissection.Dissection         1493           6.04         1373           6.96        120.0           2.41\n",
      "           Dissection.Longitudinal Muscle Dissection.Haemostasis           40           0.16           40           0.20          0.0           0.00\n",
      "Dissection.Longitudinal Muscle Dissection.Instrument Positioning          455           1.84          424           2.15         31.0           0.62\n",
      "             Dissection.Longitudinal Muscle Dissection.No Action           46           0.19           32           0.16         14.0           0.28\n",
      "           Dissection.Longitudinal Muscle Dissection.Out of Body           34           0.14           34           0.17          0.0           0.00\n",
      "            Dissection.Longitudinal Muscle Dissection.Retraction          730           2.95          672           3.41         58.0           1.17\n",
      "     Dissection.Longitudinal Muscle Dissection.Scope Positioning          162           0.66          141           0.71         21.0           0.42\n",
      "                 Dissection.Longitudinal Muscle Dissection.Smoke            7           0.03            7           0.04          0.0           0.00\n",
      "               Dissection.Longitudinal Muscle Dissection.Washout          104           0.42          104           0.53          0.0           0.00\n",
      "                        Dissection.Mucosal Dissection.Aspiration          235           0.95          141           0.71         94.0           1.89\n",
      "                          Dissection.Mucosal Dissection.Bleeding           29           0.12           11           0.06         18.0           0.36\n",
      "                        Dissection.Mucosal Dissection.Dissection         1400           5.67          895           4.54        505.0          10.15\n",
      "                       Dissection.Mucosal Dissection.Haemostatis           20           0.08           10           0.05         10.0           0.20\n",
      "            Dissection.Mucosal Dissection.Instrument Positioning          908           3.68          647           3.28        261.0           5.25\n",
      "                         Dissection.Mucosal Dissection.No Action          271           1.10          153           0.78        118.0           2.37\n",
      "                       Dissection.Mucosal Dissection.Out of Body           14           0.06           14           0.07          0.0           0.00\n",
      "                        Dissection.Mucosal Dissection.Retraction          271           1.10          212           1.07         59.0           1.19\n",
      "                 Dissection.Mucosal Dissection.Scope Positioning          428           1.73          243           1.23        185.0           3.72\n",
      "                             Dissection.Mucosal Dissection.Smoke           75           0.30           75           0.38          0.0           0.00\n",
      "                           Dissection.Mucosal Dissection.Washout           70           0.28           70           0.35          0.0           0.00\n",
      "                     Dissection.Submucosal Dissection.Aspiration          463           1.87          286           1.45        177.0           3.56\n",
      "                       Dissection.Submucosal Dissection.Bleeding          191           0.77          156           0.79         35.0           0.70\n",
      "                     Dissection.Submucosal Dissection.Dissection         1542           6.24          998           5.06        544.0          10.93\n",
      "                    Dissection.Submucosal Dissection.Haemostasis          107           0.43           68           0.34         39.0           0.78\n",
      "         Dissection.Submucosal Dissection.Instrument Positioning          636           2.57          410           2.08        226.0           4.54\n",
      "                      Dissection.Submucosal Dissection.No Action          260           1.05          161           0.82         99.0           1.99\n",
      "                    Dissection.Submucosal Dissection.Out of Body          111           0.45          111           0.56          0.0           0.00\n",
      "                     Dissection.Submucosal Dissection.Retraction          550           2.23          356           1.80        194.0           3.90\n",
      "              Dissection.Submucosal Dissection.Scope Positioning          340           1.38          150           0.76        190.0           3.82\n",
      "                          Dissection.Submucosal Dissection.Smoke           37           0.15           37           0.19          0.0           0.00\n",
      "                        Dissection.Submucosal Dissection.Washout           60           0.24           60           0.30          0.0           0.00\n",
      "                       Scope Removal.Scope removal.Scope Removal          191           0.77          191           0.97          0.0           0.00\n",
      "                         Setup.Instrument.Instrument Positioning           43           0.17           37           0.19          6.0           0.12\n",
      "                                   Setup.Pressure.Deflate Rectum          300           1.21          211           1.07         89.0           1.79\n",
      "                                   Setup.Pressure.Inflate Rectum          166           0.67           76           0.39         90.0           1.81\n",
      "                                        Setup.Pressure.No Action           53           0.21           13           0.07         40.0           0.80\n",
      "                                           Setup.Scope.No Action          330           1.34          215           1.09        115.0           2.31\n",
      "                                     Setup.Scope.Scope Insertion          179           0.72           79           0.40        100.0           2.01\n",
      "                                   Setup.Scope.Scope Positioning          218           0.88          125           0.63         93.0           1.87\n",
      "                                          Setup.Site.Debris Wash            5           0.02            5           0.03          0.0           0.00\n",
      "                                           Setup.Site.Fluid Wash           31           0.13           31           0.16          0.0           0.00\n",
      "                                            Setup.Site.No Action           26           0.11           20           0.10          6.0           0.12\n",
      "              Specimen Removal.Specimen Removal.Specimen Removal          125           0.51          106           0.54         19.0           0.38\n"
     ]
    }
   ],
   "source": [
    "display_stats('temset')"
   ]
  },
  {
   "cell_type": "code",
   "execution_count": null,
   "id": "10086dea-808f-4259-80e0-dcfd3d964a1e",
   "metadata": {},
   "outputs": [],
   "source": []
  }
 ],
 "metadata": {
  "kernelspec": {
   "display_name": "Python 3 (ipykernel)",
   "language": "python",
   "name": "python3"
  },
  "language_info": {
   "codemirror_mode": {
    "name": "ipython",
    "version": 3
   },
   "file_extension": ".py",
   "mimetype": "text/x-python",
   "name": "python",
   "nbconvert_exporter": "python",
   "pygments_lexer": "ipython3",
   "version": "3.9.18"
  }
 },
 "nbformat": 4,
 "nbformat_minor": 5
}
